{
 "cells": [
  {
   "cell_type": "code",
   "execution_count": 2,
   "id": "b8e0dd46",
   "metadata": {},
   "outputs": [],
   "source": [
    "#imports\n",
    "\n",
    "import numpy as np \n",
    "import pandas as pd \n",
    "import matplotlib.pyplot as plt \n",
    "import seaborn as sns \n",
    "from sklearn.linear_model import LogisticRegression\n",
    "from sklearn.metrics import accuracy_score\n",
    "from sklearn.metrics import confusion_matrix\n",
    "from weather import Weather\n",
    "from dataStatistics import Statistics   \n",
    "from sklearn.model_selection import train_test_split"
   ]
  },
  {
   "cell_type": "code",
   "execution_count": 3,
   "id": "ab6adc3a",
   "metadata": {},
   "outputs": [
    {
     "name": "stdout",
     "output_type": "stream",
     "text": [
      "Index(['Location', 'MinTemp', 'MaxTemp', 'Rainfall', 'Evaporation', 'Sunshine',\n",
      "       'WindGustDir', 'WindGustSpeed', 'WindDir9am', 'WindDir3pm',\n",
      "       'WindSpeed9am', 'WindSpeed3pm', 'Humidity9am', 'Humidity3pm',\n",
      "       'Pressure9am', 'Pressure3pm', 'Cloud9am', 'Cloud3pm', 'Temp9am',\n",
      "       'Temp3pm', 'RainToday', 'RainTomorrow', 'Year', 'Month', 'Day'],\n",
      "      dtype='object')\n",
      "<class 'pandas.core.frame.DataFrame'>\n",
      "RangeIndex: 145460 entries, 0 to 145459\n",
      "Data columns (total 25 columns):\n",
      " #   Column         Non-Null Count   Dtype  \n",
      "---  ------         --------------   -----  \n",
      " 0   Location       145460 non-null  object \n",
      " 1   MinTemp        143975 non-null  float64\n",
      " 2   MaxTemp        144199 non-null  float64\n",
      " 3   Rainfall       142199 non-null  float64\n",
      " 4   Evaporation    82670 non-null   float64\n",
      " 5   Sunshine       75625 non-null   float64\n",
      " 6   WindGustDir    135134 non-null  object \n",
      " 7   WindGustSpeed  135197 non-null  float64\n",
      " 8   WindDir9am     134894 non-null  object \n",
      " 9   WindDir3pm     141232 non-null  object \n",
      " 10  WindSpeed9am   143693 non-null  float64\n",
      " 11  WindSpeed3pm   142398 non-null  float64\n",
      " 12  Humidity9am    142806 non-null  float64\n",
      " 13  Humidity3pm    140953 non-null  float64\n",
      " 14  Pressure9am    130395 non-null  float64\n",
      " 15  Pressure3pm    130432 non-null  float64\n",
      " 16  Cloud9am       89572 non-null   float64\n",
      " 17  Cloud3pm       86102 non-null   float64\n",
      " 18  Temp9am        143693 non-null  float64\n",
      " 19  Temp3pm        141851 non-null  float64\n",
      " 20  RainToday      142199 non-null  object \n",
      " 21  RainTomorrow   142193 non-null  object \n",
      " 22  Year           145460 non-null  int32  \n",
      " 23  Month          145460 non-null  int32  \n",
      " 24  Day            145460 non-null  int32  \n",
      "dtypes: float64(16), int32(3), object(6)\n",
      "memory usage: 26.1+ MB\n",
      "None\n"
     ]
    },
    {
     "name": "stderr",
     "output_type": "stream",
     "text": [
      "c:\\Python311\\Lib\\site-packages\\pandas\\core\\arraylike.py:399: RuntimeWarning: divide by zero encountered in log\n",
      "  result = getattr(ufunc, method)(*inputs, **kwargs)\n",
      "c:\\Python311\\Lib\\site-packages\\pandas\\core\\arraylike.py:399: RuntimeWarning: invalid value encountered in log\n",
      "  result = getattr(ufunc, method)(*inputs, **kwargs)\n"
     ]
    },
    {
     "name": "stdout",
     "output_type": "stream",
     "text": [
      "             MinTemp        MaxTemp       Rainfall    Evaporation  \\\n",
      "count  145460.000000  145460.000000  145460.000000  145460.000000   \n",
      "mean       -0.181778      -0.059834       0.726162      -0.380956   \n",
      "std         0.928562       0.768516       1.301802       1.778339   \n",
      "min        -7.148657     -12.724417       0.000000      -7.251098   \n",
      "25%        -0.550443      -0.514361       0.000000      -1.000000   \n",
      "50%         0.000000       0.000000       0.000000       0.000000   \n",
      "75%         0.449557       0.485639       1.000000       0.000000   \n",
      "max         1.436821       1.694982       8.539159      12.105358   \n",
      "\n",
      "            Sunshine  WindGustSpeed   WindSpeed9am   WindSpeed3pm  \\\n",
      "count  145460.000000  145460.000000  145460.000000  145460.000000   \n",
      "mean       -0.719909      -0.064584      -0.192213      -0.204110   \n",
      "std         4.149119       0.836811       0.911326       0.930754   \n",
      "min       -18.083101      -4.534121      -2.880153      -5.137334   \n",
      "25%         0.000000      -0.580481      -0.610740      -0.585811   \n",
      "50%         0.000000       0.000000       0.000000       0.000000   \n",
      "75%         1.000000       0.419519       0.389260       0.414189   \n",
      "max         4.936630       3.183502       2.440426       2.584629   \n",
      "\n",
      "         Humidity9am    Humidity3pm  ...  WindDir3pm_SSE  WindDir3pm_SSW  \\\n",
      "count  145460.000000  145460.000000  ...   145460.000000   145460.000000   \n",
      "mean       -0.133590      -0.178687  ...        0.044788        0.038865   \n",
      "std         0.917379       0.886016  ...        0.170408        0.159464   \n",
      "min       -11.470831      -7.175844  ...        0.000000        0.000000   \n",
      "25%        -0.507736      -0.586833  ...        0.000000        0.000000   \n",
      "50%         0.000000       0.000000  ...        0.000000        0.000000   \n",
      "75%         0.492264       0.413167  ...        0.000000        0.000000   \n",
      "max         0.989879       1.183843  ...        0.693147        0.693147   \n",
      "\n",
      "       WindDir3pm_SW   WindDir3pm_W  WindDir3pm_WNW  WindDir3pm_WSW  \\\n",
      "count  145460.000000  145460.000000   145460.000000   145460.000000   \n",
      "mean        0.044574       0.048176        0.042286        0.045355   \n",
      "std         0.170028       0.176274        0.165900        0.171409   \n",
      "min         0.000000       0.000000        0.000000        0.000000   \n",
      "25%         0.000000       0.000000        0.000000        0.000000   \n",
      "50%         0.000000       0.000000        0.000000        0.000000   \n",
      "75%         0.000000       0.000000        0.000000        0.000000   \n",
      "max         0.693147       0.693147        0.693147        0.693147   \n",
      "\n",
      "       WindDir3pm_nan   RainToday_No  RainToday_Yes  RainToday_nan  \n",
      "count   145460.000000  145460.000000  145460.000000  145460.000000  \n",
      "mean         0.020147      -0.167454       0.151915       0.015539  \n",
      "std          0.116444       0.296699       0.286743       0.102614  \n",
      "min          0.000000      -0.693147       0.000000       0.000000  \n",
      "25%          0.000000       0.000000       0.000000       0.000000  \n",
      "50%          0.000000       0.000000       0.000000       0.000000  \n",
      "75%          0.000000       0.000000       0.000000       0.000000  \n",
      "max          0.693147       0.000000       0.693147       0.693147  \n",
      "\n",
      "[8 rows x 122 columns]\n"
     ]
    }
   ],
   "source": [
    "weather = Weather()\n",
    "statistics=Statistics() \n",
    "data = weather.get_data()\n",
    "\n",
    "\n",
    "\n",
    "X=data.drop('RainTomorrow',axis=1)\n",
    "y=data['RainTomorrow']\n",
    "\n",
    "X_train, X_test, y_train, y_test = train_test_split(X, y, test_size=0.2, random_state=42)\n",
    "\n",
    "\n",
    "\n",
    "statistics.show_Statistics(data)\n",
    "\n",
    "\n"
   ]
  },
  {
   "cell_type": "code",
   "execution_count": null,
   "id": "292aa778",
   "metadata": {},
   "outputs": [],
   "source": [
    "# zającc sie danymi nan\n"
   ]
  }
 ],
 "metadata": {
  "kernelspec": {
   "display_name": "Python 3",
   "language": "python",
   "name": "python3"
  },
  "language_info": {
   "codemirror_mode": {
    "name": "ipython",
    "version": 3
   },
   "file_extension": ".py",
   "mimetype": "text/x-python",
   "name": "python",
   "nbconvert_exporter": "python",
   "pygments_lexer": "ipython3",
   "version": "3.11.3"
  }
 },
 "nbformat": 4,
 "nbformat_minor": 5
}
